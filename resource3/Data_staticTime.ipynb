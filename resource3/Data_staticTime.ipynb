{
 "cells": [
  {
   "cell_type": "code",
   "execution_count": 8,
   "metadata": {},
   "outputs": [
    {
     "name": "stdout",
     "output_type": "stream",
     "text": [
      "0    0.127655\n",
      "Name: CT, dtype: object\n"
     ]
    }
   ],
   "source": [
    "import sys\n",
    "import os\n",
    "from BEMT_program.solver import Solver\n",
    "import numpy as np\n",
    "class HiddenPrints:\n",
    "    def __enter__(self):\n",
    "        self._original_stdout = sys.stdout\n",
    "        sys.stdout = open(os.devnull, 'w')\n",
    " \n",
    "    def __exit__(self, exc_type, exc_val, exc_tb):\n",
    "        sys.stdout.close()\n",
    "        sys.stdout = self._original_stdout\n",
    "\n",
    "BEM_path = \"example_OPTIMIZE/prop.ini\"\n",
    "s_base   = Solver(BEM_path)\n",
    "sections = s_base.rotor.sections \n",
    "base_s = s_base.rotor.s\n",
    "base_c = np.array(s_base.rotor.c)\n",
    "base_r = np.array(s_base.rotor.r)\n",
    "base_pitch = np.array(s_base.rotor.pitch)\n",
    "num_basesec = len(sections)\n",
    "\n",
    "with HiddenPrints():\n",
    "    df, sections = s_base.run_sweep('v_inf', 1, 1, 1)\n",
    "\n",
    "print(df[\"CT\"])\n"
   ]
  },
  {
   "cell_type": "code",
   "execution_count": 16,
   "metadata": {},
   "outputs": [],
   "source": [
    "import numpy as np\n",
    "from scipy.interpolate import interp1d\n",
    "\n",
    "Num_sec  = 50\n",
    "Num_cacl = 1\n",
    "\n",
    "list_sections  = []\n",
    "list_r         = []\n",
    "list_chord     = []\n",
    "list_pitch     = []\n",
    "\n",
    "for i in range(Num_sec):\n",
    "    list_sections.append(base_s[0])\n",
    "\n",
    "min_r  = float(base_r[0])\n",
    "max_r  = float(base_r[-1])\n",
    "list_r = np.linspace(min_r,max_r,num = Num_sec)\n",
    "\n",
    "base_r_numeric = np.array(base_r, dtype=float)\n",
    "base_c_numeric = np.array(base_c, dtype=float)\n",
    "base_pitch_numeric = np.array(base_pitch, dtype=float)\n",
    "\n",
    "f = interp1d(base_r_numeric, base_c_numeric, kind='cubic')\n",
    "list_chord = f(list_r)\n",
    "\n",
    "f = interp1d(base_r_numeric, base_pitch_numeric, kind='cubic')\n",
    "list_pitch = f(list_r)\n"
   ]
  },
  {
   "cell_type": "code",
   "execution_count": 17,
   "metadata": {},
   "outputs": [
    {
     "name": "stdout",
     "output_type": "stream",
     "text": [
      "50 (50,)\n",
      "0    0.131349\n",
      "Name: CT, dtype: object\n",
      "total time is 0.1795, average time = 0.1795, std = 0.0000\n"
     ]
    }
   ],
   "source": [
    "import time\n",
    "\n",
    "print(len(list_sections),list_r.shape)\n",
    "s_new   = Solver(BEM_path, s1=list_sections, r1=list_r, c1 = list_chord, p1 = list_pitch)\n",
    "\n",
    "list_time = []\n",
    "st = time.time()\n",
    "with HiddenPrints():\n",
    "    for i in range(Num_cacl):\n",
    "        df, sections = s_new.run_sweep('v_inf', 1, 1, 1)\n",
    "\n",
    "        end1 = time.time()\n",
    "        list_time.append(end1 - st)\n",
    "        st = end1\n",
    "\n",
    "print(df[\"CT\"])\n",
    "list_time  = np.array(list_time)\n",
    "total_time = np.sum(list_time)\n",
    "avg_time   = np.average(list_time)\n",
    "std_time   = np.std(list_time)\n",
    "\n",
    "print(\"total time is {:.4f}, average time = {:.4f}, std = {:.4f}\".format(total_time, avg_time, std_time))\n"
   ]
  },
  {
   "cell_type": "code",
   "execution_count": 23,
   "metadata": {},
   "outputs": [
    {
     "name": "stdout",
     "output_type": "stream",
     "text": [
      "0.006437216338880623\n"
     ]
    }
   ],
   "source": [
    "a = 0.1322\n",
    "b = 0.131349\n",
    "print(abs((b-a)/a))"
   ]
  },
  {
   "cell_type": "markdown",
   "metadata": {},
   "source": []
  }
 ],
 "metadata": {
  "kernelspec": {
   "display_name": "torch11.8",
   "language": "python",
   "name": "python3"
  },
  "language_info": {
   "codemirror_mode": {
    "name": "ipython",
    "version": 3
   },
   "file_extension": ".py",
   "mimetype": "text/x-python",
   "name": "python",
   "nbconvert_exporter": "python",
   "pygments_lexer": "ipython3",
   "version": "3.8.17"
  }
 },
 "nbformat": 4,
 "nbformat_minor": 2
}
